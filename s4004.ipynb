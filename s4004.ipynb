{
 "cells": [
  {
   "cell_type": "code",
   "execution_count": null,
   "id": "ed8de104-d6f4-43b0-b058-ab2e225538e7",
   "metadata": {},
   "outputs": [],
   "source": [
    "import pandas as pd\n",
    "from sklearn.model_selection import train_test_split\n",
    "from sklearn.ensemble import RandomForestClassifier\n",
    "from sklearn.metrics import accuracy_score\n"
   ]
  },
  {
   "cell_type": "code",
   "execution_count": null,
   "id": "15257f09-c60d-4ed2-9dd0-9c44da4911b5",
   "metadata": {},
   "outputs": [],
   "source": [
    "\n",
    "# Load the data\n",
    "train_df = pd.read_csv('F:/MLpractrice/st/data/train.csv')\n",
    "test_df = pd.read_csv('F:/MLpractrice/st/data/test.csv')\n"
   ]
  },
  {
   "cell_type": "code",
   "execution_count": null,
   "id": "485a60e6-e57e-4883-a79f-db41005309d4",
   "metadata": {},
   "outputs": [],
   "source": [
    "\n",
    "\n",
    "# Explore the data (optional step)\n",
    "print(train_df.head())\n",
    "print(train_df.info())\n"
   ]
  },
  {
   "cell_type": "code",
   "execution_count": null,
   "id": "e9c5f0c5-4891-4542-ac34-358b8276bd0f",
   "metadata": {},
   "outputs": [],
   "source": [
    "\n",
    "\n",
    "# Define features and target\n",
    "features = ['HomePlanet', 'CryoSleep', 'Cabin', 'Destination', 'Age', 'VIP',\n",
    "            'RoomService', 'FoodCourt', 'ShoppingMall', 'Spa', 'VRDeck']\n",
    "target = 'Transported'\n"
   ]
  },
  {
   "cell_type": "code",
   "execution_count": null,
   "id": "400a55a9-9fa4-4169-8ddd-96e3149f28a7",
   "metadata": {},
   "outputs": [],
   "source": [
    "\n",
    "# Handle missing values if any (example approach)\n",
    "train_df.fillna(method='ffill', inplace=True)\n",
    "test_df.fillna(method='ffill', inplace=True)\n"
   ]
  },
  {
   "cell_type": "code",
   "execution_count": null,
   "id": "a1da81f1-1702-498d-a67d-915be3a48132",
   "metadata": {},
   "outputs": [],
   "source": [
    "\n",
    "\n",
    "# Combine train and test data for consistent one-hot encoding\n",
    "combined_df = pd.concat([train_df[features], test_df[features]])\n",
    "\n",
    "# Encode categorical variables (example approach using one-hot encoding)\n",
    "combined_encoded = pd.get_dummies(combined_df, columns=['HomePlanet', 'Cabin', 'Destination'])\n",
    "\n",
    "# Split back into train and test sets\n",
    "train_encoded = combined_encoded.iloc[:len(train_df)]\n",
    "test_encoded = combined_encoded.iloc[len(train_df):]\n",
    "\n",
    "# Split data for training and validation\n",
    "X_train, X_valid, y_train, y_valid = train_test_split(train_encoded, train_df[target], \n",
    "                                                      test_size=0.2, random_state=42)\n",
    "\n",
    "# Initialize and train a model (example with Random Forest)\n",
    "model = RandomForestClassifier(random_state=42)\n",
    "model.fit(X_train, y_train)\n"
   ]
  },
  {
   "cell_type": "code",
   "execution_count": null,
   "id": "db887563-2498-42ca-a6f0-4f7390f2deeb",
   "metadata": {},
   "outputs": [],
   "source": [
    "\n",
    "# Predict on validation set and evaluate\n",
    "y_pred = model.predict(X_valid)\n",
    "accuracy = accuracy_score(y_valid, y_pred)\n",
    "print(f'Validation Accuracy: {accuracy:.4f}')\n",
    "\n",
    "# Train on full training data and predict on test data\n",
    "model.fit(train_encoded, train_df[target])\n",
    "test_predictions = model.predict(test_encoded)\n",
    "\n",
    "# Create a submission dataframe\n",
    "submission_df = pd.DataFrame({\n",
    "    'PassengerId': test_df['PassengerId'],\n",
    "    'Transported': test_predictions\n",
    "})\n",
    "\n"
   ]
  },
  {
   "cell_type": "code",
   "execution_count": null,
   "id": "342a68c7-c9c3-4f29-9106-71aeaf179705",
   "metadata": {},
   "outputs": [],
   "source": [
    "\n",
    "# Convert predictions to boolean (if necessary)\n",
    "submission_df['Transported'] = submission_df['Transported'].astype(bool)\n",
    "\n",
    "# Save submission to CSV file\n",
    "submission_df.to_csv('F:/MLpractrice/st/submission.csv', index=False)\n",
    "\n",
    "# Display sample of submission file\n",
    "print(submission_df.head())"
   ]
  }
 ],
 "metadata": {
  "kernelspec": {
   "display_name": "Python 3 (ipykernel)",
   "language": "python",
   "name": "python3"
  },
  "language_info": {
   "codemirror_mode": {
    "name": "ipython",
    "version": 3
   },
   "file_extension": ".py",
   "mimetype": "text/x-python",
   "name": "python",
   "nbconvert_exporter": "python",
   "pygments_lexer": "ipython3",
   "version": "3.11.7"
  }
 },
 "nbformat": 4,
 "nbformat_minor": 5
}
