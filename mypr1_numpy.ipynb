{
 "cells": [
  {
   "cell_type": "code",
   "execution_count": 1,
   "id": "19cb24f0-bd60-467d-8899-bc178fd56932",
   "metadata": {},
   "outputs": [
    {
     "data": {
      "text/plain": [
       "2"
      ]
     },
     "execution_count": 1,
     "metadata": {},
     "output_type": "execute_result"
    }
   ],
   "source": [
    "1+1"
   ]
  },
  {
   "cell_type": "code",
   "execution_count": 2,
   "id": "8d7e4b57-5d89-4899-ae96-0a5c69d1d3c5",
   "metadata": {},
   "outputs": [],
   "source": [
    "import numpy as np"
   ]
  },
  {
   "cell_type": "code",
   "execution_count": 4,
   "id": "e1b85c73-aad8-46ff-89be-c06e801c1385",
   "metadata": {},
   "outputs": [
    {
     "data": {
      "text/plain": [
       "array([1, 2, 3, 4, 5])"
      ]
     },
     "execution_count": 4,
     "metadata": {},
     "output_type": "execute_result"
    }
   ],
   "source": [
    "n1=np.array([1,2,3,4,5])\n",
    "n1"
   ]
  },
  {
   "cell_type": "code",
   "execution_count": 5,
   "id": "a12f8f9d-c51a-478f-a289-facf2340643e",
   "metadata": {},
   "outputs": [
    {
     "data": {
      "text/plain": [
       "numpy.ndarray"
      ]
     },
     "execution_count": 5,
     "metadata": {},
     "output_type": "execute_result"
    }
   ],
   "source": [
    "type(n1)"
   ]
  },
  {
   "cell_type": "code",
   "execution_count": 6,
   "id": "55c3cd87-15ef-43df-8aad-3157b078070c",
   "metadata": {},
   "outputs": [],
   "source": [
    "n2=np.array([[1,2,3,4],[5,6,7,8]])"
   ]
  },
  {
   "cell_type": "code",
   "execution_count": 7,
   "id": "f1fdcbac-86a5-404b-ab91-75ced56b10b9",
   "metadata": {},
   "outputs": [
    {
     "data": {
      "text/plain": [
       "array([[1, 2, 3, 4],\n",
       "       [5, 6, 7, 8]])"
      ]
     },
     "execution_count": 7,
     "metadata": {},
     "output_type": "execute_result"
    }
   ],
   "source": [
    "n2"
   ]
  },
  {
   "cell_type": "code",
   "execution_count": 8,
   "id": "581d4b1f-caa4-4035-bcb8-a3e99deb6dd3",
   "metadata": {},
   "outputs": [
    {
     "data": {
      "text/plain": [
       "numpy.ndarray"
      ]
     },
     "execution_count": 8,
     "metadata": {},
     "output_type": "execute_result"
    }
   ],
   "source": [
    "type(n2)"
   ]
  },
  {
   "cell_type": "code",
   "execution_count": 9,
   "id": "b541b67d-c3f0-45a0-a511-4b76e8099989",
   "metadata": {},
   "outputs": [
    {
     "data": {
      "text/plain": [
       "array([[0., 0.]])"
      ]
     },
     "execution_count": 9,
     "metadata": {},
     "output_type": "execute_result"
    }
   ],
   "source": [
    "n1=np.zeros((1,2))\n",
    "n1"
   ]
  },
  {
   "cell_type": "code",
   "execution_count": 11,
   "id": "17eedd15-25a5-481d-ad8e-946e49b33ec5",
   "metadata": {},
   "outputs": [],
   "source": [
    "n2=np.zeros((5,6))"
   ]
  },
  {
   "cell_type": "code",
   "execution_count": 12,
   "id": "a7a76a1a-9c43-43ab-85f9-978603e172ea",
   "metadata": {},
   "outputs": [
    {
     "data": {
      "text/plain": [
       "array([[0., 0., 0., 0., 0., 0.],\n",
       "       [0., 0., 0., 0., 0., 0.],\n",
       "       [0., 0., 0., 0., 0., 0.],\n",
       "       [0., 0., 0., 0., 0., 0.],\n",
       "       [0., 0., 0., 0., 0., 0.]])"
      ]
     },
     "execution_count": 12,
     "metadata": {},
     "output_type": "execute_result"
    }
   ],
   "source": [
    "n2"
   ]
  },
  {
   "cell_type": "code",
   "execution_count": 13,
   "id": "e01cf88b-a595-4b0c-bf5a-85afcef2bb9c",
   "metadata": {},
   "outputs": [
    {
     "data": {
      "text/plain": [
       "array([[10, 10],\n",
       "       [10, 10]])"
      ]
     },
     "execution_count": 13,
     "metadata": {},
     "output_type": "execute_result"
    }
   ],
   "source": [
    " n1=np.full((2,2),10)\n",
    "n1"
   ]
  },
  {
   "cell_type": "code",
   "execution_count": 14,
   "id": "239479cf-6e31-4696-afd1-245364fa97d2",
   "metadata": {},
   "outputs": [
    {
     "data": {
      "text/plain": [
       "array([10, 11, 12, 13, 14, 15, 16, 17, 18, 19])"
      ]
     },
     "execution_count": 14,
     "metadata": {},
     "output_type": "execute_result"
    }
   ],
   "source": [
    "n1=np.arange(10,20)\n",
    "n1"
   ]
  },
  {
   "cell_type": "code",
   "execution_count": 15,
   "id": "23ef70b1-46b6-48a3-90d8-74a391731359",
   "metadata": {},
   "outputs": [
    {
     "data": {
      "text/plain": [
       "array([10, 15])"
      ]
     },
     "execution_count": 15,
     "metadata": {},
     "output_type": "execute_result"
    }
   ],
   "source": [
    "n2=np.arange(10,20,5)\n",
    "n2"
   ]
  },
  {
   "cell_type": "code",
   "execution_count": 16,
   "id": "ca3b61ee-2e2a-4e9b-a1ac-c12bbf5bd236",
   "metadata": {},
   "outputs": [],
   "source": [
    "n1=np.random.randint(1,100,5)"
   ]
  },
  {
   "cell_type": "code",
   "execution_count": 17,
   "id": "438dfc5d-452b-4070-9c15-127c27edb7ba",
   "metadata": {},
   "outputs": [
    {
     "data": {
      "text/plain": [
       "array([38,  7, 14, 61, 83])"
      ]
     },
     "execution_count": 17,
     "metadata": {},
     "output_type": "execute_result"
    }
   ],
   "source": [
    "n1"
   ]
  },
  {
   "cell_type": "code",
   "execution_count": 21,
   "id": "1633a57a-95f5-4ada-98ce-360eaa5c3189",
   "metadata": {},
   "outputs": [
    {
     "data": {
      "text/plain": [
       "array([1, 2, 3])"
      ]
     },
     "execution_count": 21,
     "metadata": {},
     "output_type": "execute_result"
    }
   ],
   "source": [
    "n1=np.array([1,2,3])\n",
    "n1\n"
   ]
  },
  {
   "cell_type": "code",
   "execution_count": 23,
   "id": "1a369076-857a-491a-b61f-d1177349182c",
   "metadata": {},
   "outputs": [
    {
     "data": {
      "text/plain": [
       "(3,)"
      ]
     },
     "execution_count": 23,
     "metadata": {},
     "output_type": "execute_result"
    }
   ],
   "source": [
    "n1.shape"
   ]
  },
  {
   "cell_type": "code",
   "execution_count": 24,
   "id": "0526de93-6c94-4cab-b760-a21d06038b69",
   "metadata": {},
   "outputs": [],
   "source": [
    "n1=np.array([10,20,30])\n",
    "n2=np.array([101,210,310])"
   ]
  },
  {
   "cell_type": "code",
   "execution_count": 26,
   "id": "c5914255-21d4-44d9-b82d-f040d463d1ea",
   "metadata": {},
   "outputs": [
    {
     "data": {
      "text/plain": [
       "array([[ 10,  20,  30],\n",
       "       [101, 210, 310]])"
      ]
     },
     "execution_count": 26,
     "metadata": {},
     "output_type": "execute_result"
    }
   ],
   "source": [
    "np.vstack((n1,n2))"
   ]
  },
  {
   "cell_type": "code",
   "execution_count": 27,
   "id": "26de55e0-05be-4a18-9dbb-87753ef31d49",
   "metadata": {},
   "outputs": [
    {
     "data": {
      "text/plain": [
       "array([ 10,  20,  30, 101, 210, 310])"
      ]
     },
     "execution_count": 27,
     "metadata": {},
     "output_type": "execute_result"
    }
   ],
   "source": [
    "np.hstack((n1,n2))"
   ]
  },
  {
   "cell_type": "code",
   "execution_count": 28,
   "id": "b64285e6-1a35-466d-aa0d-e24750430b66",
   "metadata": {},
   "outputs": [
    {
     "data": {
      "text/plain": [
       "array([[ 10, 101],\n",
       "       [ 20, 210],\n",
       "       [ 30, 310]])"
      ]
     },
     "execution_count": 28,
     "metadata": {},
     "output_type": "execute_result"
    }
   ],
   "source": [
    "np.column_stack((n1,n2))"
   ]
  },
  {
   "cell_type": "code",
   "execution_count": 29,
   "id": "3bfcab8c-4eec-4d30-8adc-51a47cb4565d",
   "metadata": {},
   "outputs": [],
   "source": [
    "n1=np.array([10,20,30,40,50,60])\n",
    "n1=np.array([50,60,70,80,90])"
   ]
  },
  {
   "cell_type": "code",
   "execution_count": 30,
   "id": "e905c15b-b4fe-4f53-a5b9-f68f85d093cc",
   "metadata": {},
   "outputs": [
    {
     "name": "stdout",
     "output_type": "stream",
     "text": [
      "Collecting jedi==0.17.2\n",
      "  Downloading jedi-0.17.2-py2.py3-none-any.whl.metadata (19 kB)\n",
      "Collecting parso<0.8.0,>=0.7.0 (from jedi==0.17.2)\n",
      "  Downloading parso-0.7.1-py2.py3-none-any.whl.metadata (7.0 kB)\n",
      "Downloading jedi-0.17.2-py2.py3-none-any.whl (1.4 MB)\n",
      "   ---------------------------------------- 0.0/1.4 MB ? eta -:--:--\n",
      "    --------------------------------------- 0.0/1.4 MB 1.4 MB/s eta 0:00:02\n",
      "   - -------------------------------------- 0.1/1.4 MB 656.4 kB/s eta 0:00:03\n",
      "   --- ------------------------------------ 0.1/1.4 MB 939.4 kB/s eta 0:00:02\n",
      "   ------- -------------------------------- 0.3/1.4 MB 1.5 MB/s eta 0:00:01\n",
      "   ---------- ----------------------------- 0.4/1.4 MB 1.7 MB/s eta 0:00:01\n",
      "   ------------- -------------------------- 0.5/1.4 MB 1.9 MB/s eta 0:00:01\n",
      "   --------------------- ------------------ 0.8/1.4 MB 2.5 MB/s eta 0:00:01\n",
      "   --------------------------- ------------ 1.0/1.4 MB 2.7 MB/s eta 0:00:01\n",
      "   ---------------------------------- ----- 1.2/1.4 MB 3.0 MB/s eta 0:00:01\n",
      "   ----------------------------------- ---- 1.3/1.4 MB 3.1 MB/s eta 0:00:01\n",
      "   ---------------------------------------  1.4/1.4 MB 3.0 MB/s eta 0:00:01\n",
      "   ---------------------------------------  1.4/1.4 MB 3.0 MB/s eta 0:00:01\n",
      "   ---------------------------------------- 1.4/1.4 MB 2.2 MB/s eta 0:00:00\n",
      "Downloading parso-0.7.1-py2.py3-none-any.whl (109 kB)\n",
      "   ---------------------------------------- 0.0/109.5 kB ? eta -:--:--\n",
      "   ---------------------------------------- 109.5/109.5 kB 6.6 MB/s eta 0:00:00\n",
      "Installing collected packages: parso, jedi\n",
      "  Attempting uninstall: parso\n",
      "    Found existing installation: parso 0.8.3\n",
      "    Uninstalling parso-0.8.3:\n",
      "      Successfully uninstalled parso-0.8.3\n",
      "  Attempting uninstall: jedi\n",
      "    Found existing installation: jedi 0.18.1\n",
      "    Uninstalling jedi-0.18.1:\n",
      "      Successfully uninstalled jedi-0.18.1\n",
      "Successfully installed jedi-0.17.2 parso-0.7.1\n"
     ]
    }
   ],
   "source": [
    "!pip install jedi==0.17.2"
   ]
  },
  {
   "cell_type": "code",
   "execution_count": 31,
   "id": "6bfc4d18-1ef7-4ff4-871d-89da8a859f22",
   "metadata": {},
   "outputs": [],
   "source": [
    "import pandas as pd"
   ]
  },
  {
   "cell_type": "code",
   "execution_count": 32,
   "id": "6f89b743-7d16-44a8-9564-1303ff151c90",
   "metadata": {},
   "outputs": [],
   "source": [
    "import numpy as np"
   ]
  },
  {
   "cell_type": "code",
   "execution_count": 33,
   "id": "28327b5c-721e-4b23-b0a2-115087435469",
   "metadata": {},
   "outputs": [],
   "source": [
    "## Shuvo Kumar Basak"
   ]
  },
  {
   "cell_type": "code",
   "execution_count": 34,
   "id": "3570b3f3-cb6c-4660-a7c2-b9d2a287b1c3",
   "metadata": {},
   "outputs": [],
   "source": [
    "n1=np.array([10,20,30,40,50,60])\n",
    "n1=np.array([50,60,70,80,90])"
   ]
  },
  {
   "cell_type": "code",
   "execution_count": 40,
   "id": "20267850-49cd-4f6a-95ed-98bca8c12ad2",
   "metadata": {},
   "outputs": [
    {
     "data": {
      "text/plain": [
       "array([], dtype=int32)"
      ]
     },
     "execution_count": 40,
     "metadata": {},
     "output_type": "execute_result"
    }
   ],
   "source": [
    "np.intersect1d(n1,n2)"
   ]
  },
  {
   "cell_type": "code",
   "execution_count": 41,
   "id": "c5d07293-cf00-43df-8e7d-6bc2fa17f925",
   "metadata": {},
   "outputs": [
    {
     "data": {
      "text/plain": [
       "array([101, 210, 310])"
      ]
     },
     "execution_count": 41,
     "metadata": {},
     "output_type": "execute_result"
    }
   ],
   "source": [
    "np.setdiff1d(n2,n1)"
   ]
  },
  {
   "cell_type": "code",
   "execution_count": 42,
   "id": "1882b8ca-422f-46f1-9be2-b8c90a400d8e",
   "metadata": {},
   "outputs": [],
   "source": [
    "import numpy as np"
   ]
  },
  {
   "cell_type": "code",
   "execution_count": 43,
   "id": "61ef9626-f541-4bd6-b178-9b416739a99b",
   "metadata": {},
   "outputs": [],
   "source": [
    "n1=np.array([10,20])\n",
    "n2=np.array([30,40])\n"
   ]
  },
  {
   "cell_type": "code",
   "execution_count": 45,
   "id": "41246437-0b2d-48d5-8674-2f2950beb183",
   "metadata": {},
   "outputs": [
    {
     "data": {
      "text/plain": [
       "100"
      ]
     },
     "execution_count": 45,
     "metadata": {},
     "output_type": "execute_result"
    }
   ],
   "source": [
    "np.sum([n1,n2])"
   ]
  },
  {
   "cell_type": "code",
   "execution_count": 46,
   "id": "47afde15-d5cf-4c88-a83f-21379babfac3",
   "metadata": {},
   "outputs": [
    {
     "data": {
      "text/plain": [
       "array([40, 60])"
      ]
     },
     "execution_count": 46,
     "metadata": {},
     "output_type": "execute_result"
    }
   ],
   "source": [
    "np.sum([n1,n2],axis=0)"
   ]
  },
  {
   "cell_type": "code",
   "execution_count": 47,
   "id": "e9c03d83-da2e-464f-97b6-1d7ae72c0a37",
   "metadata": {},
   "outputs": [],
   "source": [
    "n1=np.array([10,20])\n",
    "n2=np.array([30,40])\n"
   ]
  },
  {
   "cell_type": "code",
   "execution_count": 48,
   "id": "52d0a5a2-c53b-401a-8a09-8f4d34c8f9c5",
   "metadata": {},
   "outputs": [
    {
     "data": {
      "text/plain": [
       "array([11, 21])"
      ]
     },
     "execution_count": 48,
     "metadata": {},
     "output_type": "execute_result"
    }
   ],
   "source": [
    "n1+1"
   ]
  },
  {
   "cell_type": "code",
   "execution_count": 49,
   "id": "2e874f78-05f3-4333-929e-d605c614dd39",
   "metadata": {},
   "outputs": [
    {
     "data": {
      "text/plain": [
       "array([ 9, 19])"
      ]
     },
     "execution_count": 49,
     "metadata": {},
     "output_type": "execute_result"
    }
   ],
   "source": [
    "n1-1"
   ]
  },
  {
   "cell_type": "code",
   "execution_count": 50,
   "id": "4d815f64-cbb9-47f7-920f-14dd96a36048",
   "metadata": {},
   "outputs": [
    {
     "data": {
      "text/plain": [
       "array([ 50, 100])"
      ]
     },
     "execution_count": 50,
     "metadata": {},
     "output_type": "execute_result"
    }
   ],
   "source": [
    "n1*5"
   ]
  },
  {
   "cell_type": "code",
   "execution_count": 51,
   "id": "60d5e85a-31b7-4636-b71f-4ce70ae57936",
   "metadata": {},
   "outputs": [],
   "source": [
    "n1=np.array([1,2,3,4,5,6,7,8,9])"
   ]
  },
  {
   "cell_type": "code",
   "execution_count": 52,
   "id": "87521561-c7ef-46a5-ab24-1bcaca16f923",
   "metadata": {},
   "outputs": [
    {
     "data": {
      "text/plain": [
       "5.0"
      ]
     },
     "execution_count": 52,
     "metadata": {},
     "output_type": "execute_result"
    }
   ],
   "source": [
    "np.mean(n1)"
   ]
  },
  {
   "cell_type": "code",
   "execution_count": 53,
   "id": "aaba9693-3531-4560-afd6-0dcf0b8ae430",
   "metadata": {},
   "outputs": [
    {
     "data": {
      "text/plain": [
       "2.581988897471611"
      ]
     },
     "execution_count": 53,
     "metadata": {},
     "output_type": "execute_result"
    }
   ],
   "source": [
    "np.std(n1)"
   ]
  },
  {
   "cell_type": "code",
   "execution_count": 54,
   "id": "1d82a18f-28fd-4a34-8936-20de4741c8fd",
   "metadata": {},
   "outputs": [
    {
     "data": {
      "text/plain": [
       "5.0"
      ]
     },
     "execution_count": 54,
     "metadata": {},
     "output_type": "execute_result"
    }
   ],
   "source": [
    "np.median(n1)"
   ]
  },
  {
   "cell_type": "code",
   "execution_count": 55,
   "id": "ff1a57f4-a3e8-48d3-9767-702549769f03",
   "metadata": {},
   "outputs": [],
   "source": [
    "np.save('my_numpy',n1)"
   ]
  },
  {
   "cell_type": "code",
   "execution_count": 56,
   "id": "b402e288-1b06-425d-acef-b408cb56ee50",
   "metadata": {},
   "outputs": [],
   "source": [
    "n2=np.load('my_numpy.npy')"
   ]
  },
  {
   "cell_type": "code",
   "execution_count": 57,
   "id": "d13402f3-16b1-4cef-84cd-23ef91defe65",
   "metadata": {},
   "outputs": [
    {
     "data": {
      "text/plain": [
       "array([1, 2, 3, 4, 5, 6, 7, 8, 9])"
      ]
     },
     "execution_count": 57,
     "metadata": {},
     "output_type": "execute_result"
    }
   ],
   "source": [
    "n2"
   ]
  },
  {
   "cell_type": "code",
   "execution_count": null,
   "id": "1e7ea677-e1b6-4364-bcdb-c46e7a438bf2",
   "metadata": {},
   "outputs": [],
   "source": []
  }
 ],
 "metadata": {
  "kernelspec": {
   "display_name": "Python 3 (ipykernel)",
   "language": "python",
   "name": "python3"
  },
  "language_info": {
   "codemirror_mode": {
    "name": "ipython",
    "version": 3
   },
   "file_extension": ".py",
   "mimetype": "text/x-python",
   "name": "python",
   "nbconvert_exporter": "python",
   "pygments_lexer": "ipython3",
   "version": "3.11.7"
  }
 },
 "nbformat": 4,
 "nbformat_minor": 5
}
